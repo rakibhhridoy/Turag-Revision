{
 "cells": [
  {
   "cell_type": "code",
   "execution_count": 2,
   "id": "fba4eaf5-15dc-41b6-96ec-c3c6cd8cba11",
   "metadata": {},
   "outputs": [],
   "source": [
    "import pandas as pd\n",
    "import numpy as np\n",
    "import matplotlib.pyplot as plt\n",
    "import tensorflow as tf\n",
    "from tensorflow.keras.models import Sequential\n",
    "from tensorflow.keras.layers import Conv1D, MaxPooling1D, Flatten,Dropout, Dense\n",
    "from tensorflow.keras.layers import Conv1D\n",
    "from tensorflow.keras.models import Sequential\n",
    "from tensorflow.keras.layers import *\n",
    "from tensorflow.keras.callbacks import ModelCheckpoint\n",
    "from tensorflow.keras.losses import MeanSquaredError\n",
    "from tensorflow.keras.metrics import RootMeanSquaredError\n",
    "from tensorflow.keras.optimizers import Adam\n",
    "from sklearn.model_selection import train_test_split\n",
    "from tensorflow.keras.models import load_model\n",
    "from sklearn.metrics import mean_squared_error as mse\n",
    "from functions_learning import *\n",
    "from feed_data import data_extract\n",
    "from tensorflow import keras\n",
    "from keras import layers"
   ]
  },
  {
   "cell_type": "code",
   "execution_count": 4,
   "id": "cadc82a2-959a-4ae3-ad73-77943670b5a8",
   "metadata": {},
   "outputs": [],
   "source": [
    "x_train, x_test, y_train, y_test, x_val, y_val = data_extract()\n",
    "timesteps = x_train.shape[1]\n",
    "num_features = x_train.shape[2]"
   ]
  },
  {
   "cell_type": "code",
   "execution_count": 5,
   "id": "6e26cc96-1b09-4d44-a586-c4082743cf69",
   "metadata": {},
   "outputs": [
    {
     "data": {
      "text/plain": [
       "(231, 3, 1)"
      ]
     },
     "execution_count": 5,
     "metadata": {},
     "output_type": "execute_result"
    }
   ],
   "source": [
    "x_train.shape"
   ]
  },
  {
   "cell_type": "markdown",
   "id": "cada2acd-e583-4072-ae4f-14c6b6f8fffa",
   "metadata": {},
   "source": [
    "# AutoEncoder"
   ]
  },
  {
   "cell_type": "markdown",
   "id": "8dbfdb81-0ff0-41f6-a064-96f7d0e03f43",
   "metadata": {},
   "source": [
    "### CNN"
   ]
  },
  {
   "cell_type": "code",
   "execution_count": null,
   "id": "207263ef-b7ae-42dd-887e-ab7a9a088866",
   "metadata": {},
   "outputs": [],
   "source": [
    "model = Sequential()\n",
    "model.add(InputLayer((3, 1)))\n",
    "model.add(Conv1D(64, kernel_size=2))\n",
    "model.add(Dropout(0.2))\n",
    "model.add(Conv1D(64, kernel_size=1))\n",
    "model.add(Dropout(0.2))\n",
    "model.add(Flatten())\n",
    "model.add(Dense(8, 'relu'))\n",
    "model.add(Dense(1, 'linear'))\n",
    "\n",
    "\n",
    "model.compile(loss='mean_squared_error', optimizer='adam')\n",
    "\n",
    "cp = ModelCheckpoint('autoencoder_cnn/', save_best_only=True)\n",
    "\n",
    "model = fit_model(model, cp, 10, x_train, y_train, x_val, y_val)\n",
    "\n",
    "plot_train(\"autoencoder_cnn\", 50, x_train, y_train)\n",
    "plot_val(model, 50, x_val, y_val)\n",
    "plot_test(model, 50, x_test, y_test)\n",
    "autoencoder_mse = plot_predictions1(model,x_test, y_test)"
   ]
  },
  {
   "cell_type": "code",
   "execution_count": 18,
   "id": "55ec6ac3-20d4-4b31-b04c-8543caa59582",
   "metadata": {},
   "outputs": [
    {
     "data": {
      "text/plain": [
       "0.0387041677210959"
      ]
     },
     "execution_count": 18,
     "metadata": {},
     "output_type": "execute_result"
    }
   ],
   "source": [
    "autoencoder_mse"
   ]
  },
  {
   "cell_type": "markdown",
   "id": "a3f2d761-0ca6-4e9f-a7fc-01775b55a356",
   "metadata": {},
   "source": [
    "### GRU"
   ]
  },
  {
   "cell_type": "code",
   "execution_count": null,
   "id": "5ce67cdf-c5a8-4cfb-9132-f14efbce4c4d",
   "metadata": {},
   "outputs": [],
   "source": [
    "model = Sequential()\n",
    "model.add(InputLayer((3, 1)))\n",
    "model.add(GRU(64))\n",
    "model.add(Dropout(0.2))\n",
    "model.add(Flatten())\n",
    "model.add(Dense(1))\n",
    "\n",
    "\n",
    "model.compile(loss='mean_squared_error', optimizer='adam')\n",
    "\n",
    "cp = ModelCheckpoint('autoencoder_gru/', save_best_only=True)\n",
    "\n",
    "model = fit_model(model, cp, 10, x_train, y_train, x_val, y_val)\n",
    "\n",
    "plot_train(\"autoencoder_gru\", 50, x_train, y_train)\n",
    "plot_val(model, 50, x_val, y_val)\n",
    "plot_test(model, 50, x_test, y_test)\n",
    "autoencoder_gru_mse = plot_predictions1(model,x_test, y_test)"
   ]
  },
  {
   "cell_type": "code",
   "execution_count": 42,
   "id": "18a6ebf8-1226-46f4-b903-691211d6d59c",
   "metadata": {},
   "outputs": [
    {
     "data": {
      "text/plain": [
       "1.3014438265610517"
      ]
     },
     "execution_count": 42,
     "metadata": {},
     "output_type": "execute_result"
    }
   ],
   "source": [
    "autoencoder_gru_mse"
   ]
  },
  {
   "cell_type": "markdown",
   "id": "761b5793-1e28-480b-9059-2788ebad6760",
   "metadata": {},
   "source": [
    "### LSTM"
   ]
  },
  {
   "cell_type": "code",
   "execution_count": null,
   "id": "a72effcd-0081-499d-bff5-6ff33a8ef519",
   "metadata": {},
   "outputs": [],
   "source": [
    "model = Sequential()\n",
    "model.add(InputLayer((3, 1)))\n",
    "model.add(LSTM(64))\n",
    "model.add(Dropout(0.3))\n",
    "#model.add(RepeatVector(3))\n",
    "#model.add(LSTM(64, return_sequences=True))\n",
    "#model.add(Dropout(0.4))\n",
    "model.add(Dense(8, 'relu'))\n",
    "model.add(Flatten())\n",
    "model.add(Dense(1))\n",
    "\n",
    "model.compile(loss='mean_squared_error', optimizer='adam')\n",
    "\n",
    "cp = ModelCheckpoint('auto_lstm/', save_best_only=True)\n",
    "model = fit_model(model, cp, 10, x_train, y_train, x_val, y_val)\n",
    "\n",
    "\n",
    "plot_train(\"auto_lstm\", 50, x_train, y_train)\n",
    "plot_val(model, 50, x_val, y_val)\n",
    "plot_test(model, 50, x_test, y_test)\n",
    "auto_lstm_mse = plot_predictions1(model,x_test, y_test)"
   ]
  },
  {
   "cell_type": "code",
   "execution_count": 73,
   "id": "28d66428-cec7-4217-aac6-e91d38da665d",
   "metadata": {},
   "outputs": [
    {
     "data": {
      "text/plain": [
       "1.6606397983528207"
      ]
     },
     "execution_count": 73,
     "metadata": {},
     "output_type": "execute_result"
    }
   ],
   "source": [
    "auto_lstm_mse"
   ]
  },
  {
   "cell_type": "markdown",
   "id": "a689a173-51b0-481f-89c5-c78ced061ef5",
   "metadata": {},
   "source": [
    "### RNN"
   ]
  },
  {
   "cell_type": "code",
   "execution_count": null,
   "id": "33801eb0-26ec-4b58-ac1c-0b46d07a2025",
   "metadata": {},
   "outputs": [],
   "source": [
    "model = Sequential()\n",
    "model.add(InputLayer((3, 1)))\n",
    "model.add(SimpleRNN(64))\n",
    "model.add(Dropout(0.4))\n",
    "model.add(Dense(1))\n",
    "\n",
    "model.compile(loss='mean_squared_error', optimizer='adam')\n",
    "\n",
    "cp = ModelCheckpoint('auto_rnn/', save_best_only=True)\n",
    "model = fit_model(model, cp, 10, x_train, y_train, x_val, y_val)\n",
    "\n",
    "\n",
    "plot_train(\"auto_rnn\", 50, x_train, y_train)\n",
    "plot_val(model, 50, x_val, y_val)\n",
    "plot_test(model, 50, x_test, y_test)\n",
    "auto_rnn_mse = plot_predictions1(model,x_test, y_test)"
   ]
  },
  {
   "cell_type": "code",
   "execution_count": 43,
   "id": "879ac75b-a769-481e-9d96-0b15f8c10c53",
   "metadata": {},
   "outputs": [
    {
     "data": {
      "text/plain": [
       "0.07499880435187749"
      ]
     },
     "execution_count": 43,
     "metadata": {},
     "output_type": "execute_result"
    }
   ],
   "source": [
    "auto_rnn_mse"
   ]
  },
  {
   "cell_type": "markdown",
   "id": "3a3ea266-d1c6-4cf1-b265-f48ec964bd6d",
   "metadata": {},
   "source": [
    "# Moving Average with Encoder"
   ]
  },
  {
   "cell_type": "code",
   "execution_count": 21,
   "id": "39ed2a17-607e-4667-a6ef-53ef553f234e",
   "metadata": {},
   "outputs": [],
   "source": [
    "window_size = 3\n",
    "\n",
    "def moving_average(data, window_size):\n",
    "    cumsum = np.cumsum(data, axis=0)\n",
    "    cumsum[window_size:] = cumsum[window_size:] - cumsum[:-window_size]\n",
    "    return cumsum[window_size - 1:] / window_size\n",
    "\n",
    "moving_avg_data = np.apply_along_axis(lambda x: moving_average(x, window_size), axis=0, arr=x_train)\n",
    "target = y_train[window_size - 1:].flatten()"
   ]
  },
  {
   "cell_type": "markdown",
   "id": "7a49ba8a-f20d-428b-858d-15f0ffa0ab23",
   "metadata": {},
   "source": [
    "### CNN"
   ]
  },
  {
   "cell_type": "code",
   "execution_count": null,
   "id": "836d4fb3-9f71-4d6c-abc8-b7bb13d9b88d",
   "metadata": {},
   "outputs": [],
   "source": [
    "model = Sequential()\n",
    "model.add(InputLayer((3, 1)))\n",
    "model.add(Conv1D(64, kernel_size=2))\n",
    "model.add(Dropout(0.3))\n",
    "model.add(Conv1D(64, kernel_size=1))\n",
    "model.add(Dropout(0.3))\n",
    "model.add(Flatten())\n",
    "model.add(Dense(8, 'relu'))\n",
    "model.add(Dense(1, 'linear'))\n",
    "\n",
    "\n",
    "model.compile(loss='mean_squared_error', optimizer='adam')\n",
    "\n",
    "cp = ModelCheckpoint('mavg_autoencoder_cnn/', save_best_only=True)\n",
    "\n",
    "model = fit_model(model, cp, 10, moving_avg_data, target, x_val, y_val)\n",
    "\n",
    "plot_train(\"mavg_autoencoder_cnn\", 50, moving_avg_data, target)\n",
    "plot_val(model, 50, x_val, y_val)\n",
    "plot_test(model, 50, x_test, y_test)\n",
    "mavg_auto_cnn_mse = plot_predictions1(model,x_test, y_test)"
   ]
  },
  {
   "cell_type": "code",
   "execution_count": 57,
   "id": "c7765b4d-d827-44bd-ba5e-718e725a14dd",
   "metadata": {},
   "outputs": [
    {
     "data": {
      "text/plain": [
       "0.40302425113882556"
      ]
     },
     "execution_count": 57,
     "metadata": {},
     "output_type": "execute_result"
    }
   ],
   "source": [
    "mavg_auto_cnn_mse"
   ]
  },
  {
   "cell_type": "markdown",
   "id": "840ae788-606b-4b07-ae96-c6f5d54e437b",
   "metadata": {},
   "source": [
    "### RNN"
   ]
  },
  {
   "cell_type": "code",
   "execution_count": null,
   "id": "885c5e8c-b4ec-4259-ab1a-3f51c109a006",
   "metadata": {},
   "outputs": [],
   "source": [
    "model = Sequential()\n",
    "model.add(InputLayer((3, 1)))\n",
    "model.add(SimpleRNN(64))\n",
    "model.add(Dropout(0.4))\n",
    "model.add(Dense(1))\n",
    "\n",
    "model.compile(loss='mean_squared_error', optimizer='adam')\n",
    "\n",
    "cp = ModelCheckpoint('mavg_auto_rnn/', save_best_only=True)\n",
    "model = fit_model(model, cp, 10,moving_avg_data,target, x_val, y_val)\n",
    "\n",
    "\n",
    "plot_train(\"mavg_auto_rnn\", 50, moving_avg_data, target)\n",
    "plot_val(model, 50, x_val, y_val)\n",
    "plot_test(model, 50, x_test, y_test)\n",
    "mavg_auto_rnn_mse = plot_predictions1(model,x_test, y_test)"
   ]
  },
  {
   "cell_type": "code",
   "execution_count": 59,
   "id": "e3d91bc5-0dfc-4a90-99fe-62271084cf0b",
   "metadata": {},
   "outputs": [
    {
     "data": {
      "text/plain": [
       "0.4907996666128383"
      ]
     },
     "execution_count": 59,
     "metadata": {},
     "output_type": "execute_result"
    }
   ],
   "source": [
    "mavg_auto_rnn_mse"
   ]
  },
  {
   "cell_type": "markdown",
   "id": "b0547009-6f84-409b-a243-b0dfe918fdae",
   "metadata": {},
   "source": [
    "### GRU"
   ]
  },
  {
   "cell_type": "code",
   "execution_count": null,
   "id": "3cccd8c5-ef82-435f-8bc3-7146e266745e",
   "metadata": {},
   "outputs": [],
   "source": [
    "model = Sequential()\n",
    "model.add(InputLayer((3, 1)))\n",
    "model.add(GRU(64))\n",
    "model.add(Dropout(0.2))\n",
    "model.add(Flatten())\n",
    "model.add(Dense(1))\n",
    "\n",
    "\n",
    "model.compile(loss='mean_squared_error', optimizer='adam')\n",
    "\n",
    "cp = ModelCheckpoint('mavg_auto_gru/', save_best_only=True)\n",
    "\n",
    "model = fit_model(model, cp, 10, moving_avg_data, target, x_val, y_val)\n",
    "\n",
    "plot_train(\"mavg_auto_gru\", 50, moving_avg_data, target)\n",
    "plot_val(model, 50, x_val, y_val)\n",
    "plot_test(model, 50, x_test, y_test)\n",
    "mavg_auto_gru_mse = plot_predictions1(model,x_test, y_test)"
   ]
  },
  {
   "cell_type": "code",
   "execution_count": 61,
   "id": "394f6693-f07e-4664-8f95-f8c8cc8c712d",
   "metadata": {},
   "outputs": [
    {
     "data": {
      "text/plain": [
       "1.022695995825198"
      ]
     },
     "execution_count": 61,
     "metadata": {},
     "output_type": "execute_result"
    }
   ],
   "source": [
    "mavg_auto_gru_mse"
   ]
  },
  {
   "cell_type": "markdown",
   "id": "c018d87f-1587-4dd6-953e-9b56196c84b4",
   "metadata": {},
   "source": [
    "### LSTM"
   ]
  },
  {
   "cell_type": "code",
   "execution_count": null,
   "id": "c22154f0-d271-450e-9426-23397f2268f2",
   "metadata": {},
   "outputs": [],
   "source": [
    "model = Sequential()\n",
    "model.add(InputLayer((3, 1)))\n",
    "model.add(LSTM(64))\n",
    "model.add(Dropout(0.3))\n",
    "#model.add(RepeatVector(3))\n",
    "#model.add(LSTM(64, return_sequences=True))\n",
    "#model.add(Dropout(0.4))\n",
    "#model.add(Dense(8, 'relu'))\n",
    "#model.add(Flatten())\n",
    "model.add(Dense(1))\n",
    "\n",
    "model.compile(loss='mean_squared_error', optimizer='adam')\n",
    "\n",
    "cp = ModelCheckpoint('mavg_auto_lstm/', save_best_only=True)\n",
    "model = fit_model(model, cp, 10,moving_avg_data, target, x_val, y_val)\n",
    "\n",
    "\n",
    "plot_train(\"mavg_auto_lstm\", 50, moving_avg_data, target)\n",
    "plot_val(model, 50, x_val, y_val)\n",
    "plot_test(model, 50, x_test, y_test)\n",
    "mavg_auto_lstm_mse = plot_predictions1(model,x_test, y_test)"
   ]
  },
  {
   "cell_type": "code",
   "execution_count": 68,
   "id": "007099e8-b35a-495d-bd24-4af24b942f6e",
   "metadata": {},
   "outputs": [
    {
     "data": {
      "text/plain": [
       "2.3015907611799573"
      ]
     },
     "execution_count": 68,
     "metadata": {},
     "output_type": "execute_result"
    }
   ],
   "source": [
    "mavg_auto_lstm_mse"
   ]
  },
  {
   "cell_type": "code",
   "execution_count": null,
   "id": "9e2caee7-db34-4dd3-96a3-ea0ba9cade62",
   "metadata": {},
   "outputs": [],
   "source": []
  },
  {
   "cell_type": "markdown",
   "id": "a08986ab-5b70-4b7f-bcc8-95dcc0eae67a",
   "metadata": {
    "tags": []
   },
   "source": [
    "## AN Test"
   ]
  },
  {
   "cell_type": "code",
   "execution_count": 14,
   "id": "c963c4b9-d419-45ba-bfe8-aabaa720b918",
   "metadata": {},
   "outputs": [
    {
     "data": {
      "text/plain": [
       "(231, 3, 1)"
      ]
     },
     "execution_count": 14,
     "metadata": {},
     "output_type": "execute_result"
    }
   ],
   "source": [
    "x_train.shape"
   ]
  },
  {
   "cell_type": "code",
   "execution_count": 15,
   "id": "f08766b7-34c7-4c08-887d-19a81d7bde84",
   "metadata": {},
   "outputs": [],
   "source": [
    "timesteps = x_train.shape[1]\n",
    "num_features = x_train.shape[2]"
   ]
  },
  {
   "cell_type": "code",
   "execution_count": 16,
   "id": "e5e9e3fc-5e92-44de-9458-76615a5bb64f",
   "metadata": {},
   "outputs": [],
   "source": [
    "from tensorflow.keras.models import Sequential\n",
    "from tensorflow.keras.layers import Dense, LSTM, Dropout, RepeatVector, TimeDistributed\n",
    "\n",
    "model = Sequential([\n",
    "    LSTM(128,input_shape=(timesteps, num_features)),\n",
    "    Dropout(0.2),\n",
    "    RepeatVector(timesteps),\n",
    "    LSTM(128, return_sequences=True),\n",
    "    Dropout(0.2),\n",
    "    TimeDistributed(Dense(num_features))\n",
    "])\n",
    "\n",
    "model.compile(loss='mae', optimizer= 'adam')"
   ]
  },
  {
   "cell_type": "code",
   "execution_count": 17,
   "id": "b89ce0a2-7945-42f3-978b-775b6f35e088",
   "metadata": {},
   "outputs": [
    {
     "name": "stdout",
     "output_type": "stream",
     "text": [
      "Epoch 1/10\n",
      "7/7 [==============================] - 4s 122ms/step - loss: 1.5762 - val_loss: 1.4353\n",
      "Epoch 2/10\n",
      "7/7 [==============================] - 0s 15ms/step - loss: 1.1546 - val_loss: 1.1061\n",
      "Epoch 3/10\n",
      "7/7 [==============================] - 0s 11ms/step - loss: 1.0806 - val_loss: 1.0090\n",
      "Epoch 4/10\n",
      "7/7 [==============================] - 0s 10ms/step - loss: 0.9972 - val_loss: 0.9940\n",
      "Epoch 5/10\n",
      "7/7 [==============================] - 0s 9ms/step - loss: 0.9454 - val_loss: 0.8992\n",
      "Epoch 6/10\n",
      "7/7 [==============================] - 0s 10ms/step - loss: 0.8939 - val_loss: 0.8377\n",
      "Epoch 7/10\n",
      "7/7 [==============================] - 0s 9ms/step - loss: 0.8496 - val_loss: 0.7829\n",
      "Epoch 8/10\n",
      "7/7 [==============================] - 0s 9ms/step - loss: 0.8097 - val_loss: 0.7361\n",
      "Epoch 9/10\n",
      "7/7 [==============================] - 0s 10ms/step - loss: 0.7911 - val_loss: 0.7151\n",
      "Epoch 10/10\n",
      "7/7 [==============================] - 0s 9ms/step - loss: 0.7805 - val_loss: 0.7042\n"
     ]
    }
   ],
   "source": [
    "history = model.fit(x_train,y_train, \n",
    "          epochs =10, \n",
    "          batch_size = 32, \n",
    "          validation_split = 0.1, \n",
    "          shuffle= False)"
   ]
  },
  {
   "cell_type": "code",
   "execution_count": 18,
   "id": "8657734a-5a71-4eca-86c4-a8caf57db8f8",
   "metadata": {},
   "outputs": [
    {
     "data": {
      "text/plain": [
       "<matplotlib.legend.Legend at 0x7f8de210d370>"
      ]
     },
     "execution_count": 18,
     "metadata": {},
     "output_type": "execute_result"
    },
    {
     "data": {
      "image/png": "[encoded data removed]",
      "text/plain": [
       "<Figure size 432x288 with 1 Axes>"
      ]
     },
     "metadata": {
      "needs_background": "light"
     },
     "output_type": "display_data"
    }
   ],
   "source": [
    "plt.plot(history.history['loss'], label = 'Training Loss')\n",
    "plt.plot(history.history['val_loss'], label ='Validation Loss')\n",
    "plt.savefig('loss.png')\n",
    "plt.legend()"
   ]
  },
  {
   "cell_type": "code",
   "execution_count": 19,
   "id": "08b2f22c-eca5-4a0b-874b-3bf870cce2de",
   "metadata": {
    "tags": []
   },
   "outputs": [
    {
     "name": "stdout",
     "output_type": "stream",
     "text": [
      "3/3 [==============================] - 0s 4ms/step - loss: 0.7945\n"
     ]
    },
    {
     "data": {
      "text/plain": [
       "0.7944866418838501"
      ]
     },
     "execution_count": 19,
     "metadata": {},
     "output_type": "execute_result"
    }
   ],
   "source": [
    "model.evaluate(x_test, y_test)"
   ]
  },
  {
   "cell_type": "code",
   "execution_count": null,
   "id": "29a2efe3-e198-4cd3-a78f-3e443b02fd26",
   "metadata": {},
   "outputs": [],
   "source": []
  },
  {
   "cell_type": "code",
   "execution_count": 3,
   "id": "deb68ab9-885b-47c5-834e-813213a3c507",
   "metadata": {},
   "outputs": [
    {
     "data": {
      "text/html": [
       "<div>\n",
       "<style scoped>\n",
       "    .dataframe tbody tr th:only-of-type {\n",
       "        vertical-align: middle;\n",
       "    }\n",
       "\n",
       "    .dataframe tbody tr th {\n",
       "        vertical-align: top;\n",
       "    }\n",
       "\n",
       "    .dataframe thead th {\n",
       "        text-align: right;\n",
       "    }\n",
       "</style>\n",
       "<table border=\"1\" class=\"dataframe\">\n",
       "  <thead>\n",
       "    <tr style=\"text-align: right;\">\n",
       "      <th></th>\n",
       "      <th>Unnamed: 0</th>\n",
       "      <th>Date</th>\n",
       "      <th>TempA</th>\n",
       "      <th>pHA</th>\n",
       "      <th>ECA</th>\n",
       "      <th>DOA</th>\n",
       "      <th>BODA</th>\n",
       "      <th>TNA</th>\n",
       "    </tr>\n",
       "  </thead>\n",
       "  <tbody>\n",
       "    <tr>\n",
       "      <th>0</th>\n",
       "      <td>0</td>\n",
       "      <td>12/15/2021</td>\n",
       "      <td>21.50</td>\n",
       "      <td>7.73</td>\n",
       "      <td>1748</td>\n",
       "      <td>2.55</td>\n",
       "      <td>27.96</td>\n",
       "      <td>1.28</td>\n",
       "    </tr>\n",
       "    <tr>\n",
       "      <th>1</th>\n",
       "      <td>1</td>\n",
       "      <td>12/16/2021</td>\n",
       "      <td>21.21</td>\n",
       "      <td>7.82</td>\n",
       "      <td>1765</td>\n",
       "      <td>2.60</td>\n",
       "      <td>27.90</td>\n",
       "      <td>1.08</td>\n",
       "    </tr>\n",
       "    <tr>\n",
       "      <th>2</th>\n",
       "      <td>2</td>\n",
       "      <td>12/17/2021</td>\n",
       "      <td>21.21</td>\n",
       "      <td>7.73</td>\n",
       "      <td>1769</td>\n",
       "      <td>2.59</td>\n",
       "      <td>27.88</td>\n",
       "      <td>1.17</td>\n",
       "    </tr>\n",
       "    <tr>\n",
       "      <th>3</th>\n",
       "      <td>3</td>\n",
       "      <td>12/18/2021</td>\n",
       "      <td>21.26</td>\n",
       "      <td>7.82</td>\n",
       "      <td>1776</td>\n",
       "      <td>2.63</td>\n",
       "      <td>27.66</td>\n",
       "      <td>1.15</td>\n",
       "    </tr>\n",
       "    <tr>\n",
       "      <th>4</th>\n",
       "      <td>4</td>\n",
       "      <td>12/19/2021</td>\n",
       "      <td>21.09</td>\n",
       "      <td>7.76</td>\n",
       "      <td>1822</td>\n",
       "      <td>2.60</td>\n",
       "      <td>27.71</td>\n",
       "      <td>1.22</td>\n",
       "    </tr>\n",
       "    <tr>\n",
       "      <th>...</th>\n",
       "      <td>...</td>\n",
       "      <td>...</td>\n",
       "      <td>...</td>\n",
       "      <td>...</td>\n",
       "      <td>...</td>\n",
       "      <td>...</td>\n",
       "      <td>...</td>\n",
       "      <td>...</td>\n",
       "    </tr>\n",
       "    <tr>\n",
       "      <th>360</th>\n",
       "      <td>360</td>\n",
       "      <td>12/10/2022</td>\n",
       "      <td>21.70</td>\n",
       "      <td>7.71</td>\n",
       "      <td>1642</td>\n",
       "      <td>2.45</td>\n",
       "      <td>27.90</td>\n",
       "      <td>1.28</td>\n",
       "    </tr>\n",
       "    <tr>\n",
       "      <th>361</th>\n",
       "      <td>361</td>\n",
       "      <td>12/11/2022</td>\n",
       "      <td>21.86</td>\n",
       "      <td>7.72</td>\n",
       "      <td>1640</td>\n",
       "      <td>2.42</td>\n",
       "      <td>28.19</td>\n",
       "      <td>1.29</td>\n",
       "    </tr>\n",
       "    <tr>\n",
       "      <th>362</th>\n",
       "      <td>362</td>\n",
       "      <td>12/12/2022</td>\n",
       "      <td>21.67</td>\n",
       "      <td>7.74</td>\n",
       "      <td>1650</td>\n",
       "      <td>2.43</td>\n",
       "      <td>28.12</td>\n",
       "      <td>1.31</td>\n",
       "    </tr>\n",
       "    <tr>\n",
       "      <th>363</th>\n",
       "      <td>363</td>\n",
       "      <td>12/13/2022</td>\n",
       "      <td>21.66</td>\n",
       "      <td>7.72</td>\n",
       "      <td>1645</td>\n",
       "      <td>2.43</td>\n",
       "      <td>27.89</td>\n",
       "      <td>1.27</td>\n",
       "    </tr>\n",
       "    <tr>\n",
       "      <th>364</th>\n",
       "      <td>364</td>\n",
       "      <td>12/14/2022</td>\n",
       "      <td>21.75</td>\n",
       "      <td>7.72</td>\n",
       "      <td>1636</td>\n",
       "      <td>2.44</td>\n",
       "      <td>28.24</td>\n",
       "      <td>1.29</td>\n",
       "    </tr>\n",
       "  </tbody>\n",
       "</table>\n",
       "<p>365 rows × 8 columns</p>\n",
       "</div>"
      ],
      "text/plain": [
       "     Unnamed: 0        Date  TempA   pHA   ECA   DOA   BODA   TNA\n",
       "0             0  12/15/2021  21.50  7.73  1748  2.55  27.96  1.28\n",
       "1             1  12/16/2021  21.21  7.82  1765  2.60  27.90  1.08\n",
       "2             2  12/17/2021  21.21  7.73  1769  2.59  27.88  1.17\n",
       "3             3  12/18/2021  21.26  7.82  1776  2.63  27.66  1.15\n",
       "4             4  12/19/2021  21.09  7.76  1822  2.60  27.71  1.22\n",
       "..          ...         ...    ...   ...   ...   ...    ...   ...\n",
       "360         360  12/10/2022  21.70  7.71  1642  2.45  27.90  1.28\n",
       "361         361  12/11/2022  21.86  7.72  1640  2.42  28.19  1.29\n",
       "362         362  12/12/2022  21.67  7.74  1650  2.43  28.12  1.31\n",
       "363         363  12/13/2022  21.66  7.72  1645  2.43  27.89  1.27\n",
       "364         364  12/14/2022  21.75  7.72  1636  2.44  28.24  1.29\n",
       "\n",
       "[365 rows x 8 columns]"
      ]
     },
     "execution_count": 3,
     "metadata": {},
     "output_type": "execute_result"
    }
   ],
   "source": [
    "data = pd.read_csv(\"../data/LocationA.csv\")\n",
    "data"
   ]
  },
  {
   "cell_type": "code",
   "execution_count": 4,
   "id": "7bac1034-5d15-43e8-a89e-461627669236",
   "metadata": {},
   "outputs": [
    {
     "data": {
      "text/html": [
       "<div>\n",
       "<style scoped>\n",
       "    .dataframe tbody tr th:only-of-type {\n",
       "        vertical-align: middle;\n",
       "    }\n",
       "\n",
       "    .dataframe tbody tr th {\n",
       "        vertical-align: top;\n",
       "    }\n",
       "\n",
       "    .dataframe thead th {\n",
       "        text-align: right;\n",
       "    }\n",
       "</style>\n",
       "<table border=\"1\" class=\"dataframe\">\n",
       "  <thead>\n",
       "    <tr style=\"text-align: right;\">\n",
       "      <th></th>\n",
       "      <th>TempA</th>\n",
       "      <th>pHA</th>\n",
       "      <th>ECA</th>\n",
       "      <th>DOA</th>\n",
       "      <th>BODA</th>\n",
       "      <th>TNA</th>\n",
       "    </tr>\n",
       "  </thead>\n",
       "  <tbody>\n",
       "    <tr>\n",
       "      <th>0</th>\n",
       "      <td>21.50</td>\n",
       "      <td>7.73</td>\n",
       "      <td>1748</td>\n",
       "      <td>2.55</td>\n",
       "      <td>27.96</td>\n",
       "      <td>1.28</td>\n",
       "    </tr>\n",
       "    <tr>\n",
       "      <th>1</th>\n",
       "      <td>21.21</td>\n",
       "      <td>7.82</td>\n",
       "      <td>1765</td>\n",
       "      <td>2.60</td>\n",
       "      <td>27.90</td>\n",
       "      <td>1.08</td>\n",
       "    </tr>\n",
       "    <tr>\n",
       "      <th>2</th>\n",
       "      <td>21.21</td>\n",
       "      <td>7.73</td>\n",
       "      <td>1769</td>\n",
       "      <td>2.59</td>\n",
       "      <td>27.88</td>\n",
       "      <td>1.17</td>\n",
       "    </tr>\n",
       "    <tr>\n",
       "      <th>3</th>\n",
       "      <td>21.26</td>\n",
       "      <td>7.82</td>\n",
       "      <td>1776</td>\n",
       "      <td>2.63</td>\n",
       "      <td>27.66</td>\n",
       "      <td>1.15</td>\n",
       "    </tr>\n",
       "    <tr>\n",
       "      <th>4</th>\n",
       "      <td>21.09</td>\n",
       "      <td>7.76</td>\n",
       "      <td>1822</td>\n",
       "      <td>2.60</td>\n",
       "      <td>27.71</td>\n",
       "      <td>1.22</td>\n",
       "    </tr>\n",
       "    <tr>\n",
       "      <th>...</th>\n",
       "      <td>...</td>\n",
       "      <td>...</td>\n",
       "      <td>...</td>\n",
       "      <td>...</td>\n",
       "      <td>...</td>\n",
       "      <td>...</td>\n",
       "    </tr>\n",
       "    <tr>\n",
       "      <th>360</th>\n",
       "      <td>21.70</td>\n",
       "      <td>7.71</td>\n",
       "      <td>1642</td>\n",
       "      <td>2.45</td>\n",
       "      <td>27.90</td>\n",
       "      <td>1.28</td>\n",
       "    </tr>\n",
       "    <tr>\n",
       "      <th>361</th>\n",
       "      <td>21.86</td>\n",
       "      <td>7.72</td>\n",
       "      <td>1640</td>\n",
       "      <td>2.42</td>\n",
       "      <td>28.19</td>\n",
       "      <td>1.29</td>\n",
       "    </tr>\n",
       "    <tr>\n",
       "      <th>362</th>\n",
       "      <td>21.67</td>\n",
       "      <td>7.74</td>\n",
       "      <td>1650</td>\n",
       "      <td>2.43</td>\n",
       "      <td>28.12</td>\n",
       "      <td>1.31</td>\n",
       "    </tr>\n",
       "    <tr>\n",
       "      <th>363</th>\n",
       "      <td>21.66</td>\n",
       "      <td>7.72</td>\n",
       "      <td>1645</td>\n",
       "      <td>2.43</td>\n",
       "      <td>27.89</td>\n",
       "      <td>1.27</td>\n",
       "    </tr>\n",
       "    <tr>\n",
       "      <th>364</th>\n",
       "      <td>21.75</td>\n",
       "      <td>7.72</td>\n",
       "      <td>1636</td>\n",
       "      <td>2.44</td>\n",
       "      <td>28.24</td>\n",
       "      <td>1.29</td>\n",
       "    </tr>\n",
       "  </tbody>\n",
       "</table>\n",
       "<p>365 rows × 6 columns</p>\n",
       "</div>"
      ],
      "text/plain": [
       "     TempA   pHA   ECA   DOA   BODA   TNA\n",
       "0    21.50  7.73  1748  2.55  27.96  1.28\n",
       "1    21.21  7.82  1765  2.60  27.90  1.08\n",
       "2    21.21  7.73  1769  2.59  27.88  1.17\n",
       "3    21.26  7.82  1776  2.63  27.66  1.15\n",
       "4    21.09  7.76  1822  2.60  27.71  1.22\n",
       "..     ...   ...   ...   ...    ...   ...\n",
       "360  21.70  7.71  1642  2.45  27.90  1.28\n",
       "361  21.86  7.72  1640  2.42  28.19  1.29\n",
       "362  21.67  7.74  1650  2.43  28.12  1.31\n",
       "363  21.66  7.72  1645  2.43  27.89  1.27\n",
       "364  21.75  7.72  1636  2.44  28.24  1.29\n",
       "\n",
       "[365 rows x 6 columns]"
      ]
     },
     "execution_count": 4,
     "metadata": {},
     "output_type": "execute_result"
    }
   ],
   "source": [
    "data = data.drop(columns=[\"Unnamed: 0\", \"Date\"])\n",
    "data"
   ]
  },
  {
   "cell_type": "code",
   "execution_count": null,
   "id": "f594929f-fdad-4d5f-b834-8674efe76439",
   "metadata": {},
   "outputs": [],
   "source": []
  },
  {
   "cell_type": "code",
   "execution_count": 5,
   "id": "5ac78ca9-cfb4-407a-95c6-6a059eea202f",
   "metadata": {},
   "outputs": [],
   "source": [
    "target_column = \"DOA\""
   ]
  },
  {
   "cell_type": "code",
   "execution_count": 13,
   "id": "8f399daf-e942-4b4c-b636-4326dbeaec9d",
   "metadata": {},
   "outputs": [],
   "source": [
    "X = []\n",
    "y = []\n",
    "for i in range(3, len(data)):\n",
    "    features = data.iloc[i-3:i, :].drop(target_column, axis=1)  # Extract window of 3 features\n",
    "    target = data.iloc[i, data.columns.get_loc(target_column)]  # Extract target value\n",
    "    X.append(features.values.ravel())  # Flatten features\n",
    "    y.append(target)\n",
    "\n",
    "# Convert lists to numpy arrays\n",
    "X = np.array(X_train)\n",
    "y = np.array(y_train)"
   ]
  },
  {
   "cell_type": "code",
   "execution_count": 15,
   "id": "8cb8f44b-651c-4408-b4f3-ab2e58c60fcf",
   "metadata": {},
   "outputs": [],
   "source": [
    "x_train, x_test, y_train, y_test = train_test_split(X, y, test_size=0.2, random_state=1)\n",
    "x_train, x_val, y_train, y_val = train_test_split(x_train, y_train, test_size=0.2, random_state=1)"
   ]
  },
  {
   "cell_type": "code",
   "execution_count": 16,
   "id": "75e6681e-48d7-4eb3-b6eb-517279c7e390",
   "metadata": {},
   "outputs": [
    {
     "data": {
      "text/plain": [
       "(231, 15)"
      ]
     },
     "execution_count": 16,
     "metadata": {},
     "output_type": "execute_result"
    }
   ],
   "source": [
    "x_train.shape"
   ]
  },
  {
   "cell_type": "code",
   "execution_count": 17,
   "id": "438fc79e-f6bb-4eaa-8f1a-b375c7bad09e",
   "metadata": {},
   "outputs": [
    {
     "data": {
      "text/plain": [
       "(231,)"
      ]
     },
     "execution_count": 17,
     "metadata": {},
     "output_type": "execute_result"
    }
   ],
   "source": [
    "y_train.shape"
   ]
  },
  {
   "cell_type": "code",
   "execution_count": 19,
   "id": "998038e6-b420-4632-82d8-6c20fcb8562a",
   "metadata": {},
   "outputs": [],
   "source": [
    "xt = x_train.copy()"
   ]
  },
  {
   "cell_type": "code",
   "execution_count": 20,
   "id": "3ea1bf63-681e-4952-9a44-c85eee282d45",
   "metadata": {},
   "outputs": [
    {
     "data": {
      "text/plain": [
       "(231, 15, 1)"
      ]
     },
     "execution_count": 20,
     "metadata": {},
     "output_type": "execute_result"
    }
   ],
   "source": [
    "xt = xt.reshape(231,15,1)\n",
    "xt.shape"
   ]
  },
  {
   "cell_type": "code",
   "execution_count": 41,
   "id": "cd29732b-0fae-4488-9d1b-5276ddad6e64",
   "metadata": {},
   "outputs": [
    {
     "data": {
      "text/plain": [
       "(array([[  23.23],\n",
       "        [   7.53],\n",
       "        [1182.  ],\n",
       "        [  29.52],\n",
       "        [   1.49],\n",
       "        [  23.7 ],\n",
       "        [   7.56],\n",
       "        [1338.  ],\n",
       "        [  29.6 ],\n",
       "        [   1.47],\n",
       "        [  23.11],\n",
       "        [   7.56],\n",
       "        [1347.  ],\n",
       "        [  29.59],\n",
       "        [   1.39]]),\n",
       " 2.17)"
      ]
     },
     "execution_count": 41,
     "metadata": {},
     "output_type": "execute_result"
    }
   ],
   "source": [
    "xt[1], y_train[1]"
   ]
  },
  {
   "cell_type": "code",
   "execution_count": null,
   "id": "f697223e-375f-436f-bd04-014be144c0cb",
   "metadata": {},
   "outputs": [],
   "source": [
    "model = Sequential()\n",
    "model.add(InputLayer((15, 1)))\n",
    "model.add(Conv1D(64, kernel_size=2))\n",
    "model.add(Flatten())\n",
    "#model.add(Dense(8, 'relu'))\n",
    "model.add(Dense(1, 'linear'))\n",
    "model.compile(loss='mean_squared_error', optimizer='adam')\n",
    "\n",
    "cp = ModelCheckpoint('autoencoder_cnn/', save_best_only=True)\n",
    "\n",
    "model = fit_model(model, cp, 100, xt, y_train, x_val, y_val)\n",
    "\n",
    "plot_train(\"autoencoder_cnn\", 50, xt, y_train)\n",
    "plot_val(model, 50, x_val, y_val)\n",
    "plot_test(model, 50, x_test, y_test)\n",
    "autoencoder_mse = plot_predictions1(model,x_test, y_test)"
   ]
  },
  {
   "cell_type": "code",
   "execution_count": 35,
   "id": "df086205-ef61-482a-8dfc-873d2838b685",
   "metadata": {},
   "outputs": [
    {
     "data": {
      "text/plain": [
       "9.048035876644462"
      ]
     },
     "execution_count": 35,
     "metadata": {},
     "output_type": "execute_result"
    }
   ],
   "source": [
    "autoencoder_mse"
   ]
  },
  {
   "cell_type": "code",
   "execution_count": null,
   "id": "59eda3a2-5131-404c-8f56-c6f400dd2465",
   "metadata": {},
   "outputs": [],
   "source": [
    "model = keras.Sequential([\n",
    "    layers.GRU(units=64, input_shape=(15, 1)),\n",
    "    layers.Dense(units=1)\n",
    "])\n",
    "\n",
    "model.compile(loss='mean_squared_error', optimizer='adam')\n",
    "\n",
    "cp = ModelCheckpoint('combine_gru/', save_best_only=True)\n",
    "model = fit_model(model, cp, 10, xt, y_train,x_val, y_val)\n",
    "\n",
    "plot_train(\"combine_gru\", 50, xt, y_train)\n",
    "plot_val(model, 50, x_val, y_val)\n",
    "plot_test(model, 50, x_test, y_test)\n",
    "gru_mse = plot_predictions1(model,x_test, y_test)"
   ]
  },
  {
   "cell_type": "code",
   "execution_count": 38,
   "id": "ebb9c714-4cab-4aa6-8a7c-e42b1b5ebd00",
   "metadata": {},
   "outputs": [
    {
     "data": {
      "text/plain": [
       "0.9794993820954397"
      ]
     },
     "execution_count": 38,
     "metadata": {},
     "output_type": "execute_result"
    }
   ],
   "source": [
    "gru_mse"
   ]
  },
  {
   "cell_type": "code",
   "execution_count": 42,
   "id": "30d320e7-7462-4f82-a6e7-e42548b0432b",
   "metadata": {},
   "outputs": [],
   "source": [
    "window_size = 2\n",
    "\n",
    "def moving_average(data, window_size):\n",
    "    cumsum = np.cumsum(data, axis=0)\n",
    "    cumsum[window_size:] = cumsum[window_size:] - cumsum[:-window_size]\n",
    "    return cumsum[window_size - 1:] / window_size\n",
    "\n",
    "moving_avg_data = np.apply_along_axis(lambda x: moving_average(x, window_size), axis=0, arr=xt)\n",
    "target = y_train[window_size - 1:].flatten()"
   ]
  },
  {
   "cell_type": "code",
   "execution_count": 46,
   "id": "6ce35b97-829c-4e20-a012-aae4d340c16e",
   "metadata": {},
   "outputs": [
    {
     "data": {
      "text/plain": [
       "(230, 15, 1)"
      ]
     },
     "execution_count": 46,
     "metadata": {},
     "output_type": "execute_result"
    }
   ],
   "source": [
    "moving_avg_data.shape"
   ]
  },
  {
   "cell_type": "code",
   "execution_count": 48,
   "id": "dfa995ad-c77d-479c-802d-f1e8db1c6ca9",
   "metadata": {},
   "outputs": [
    {
     "data": {
      "text/plain": [
       "array([[  23.23],\n",
       "       [   7.53],\n",
       "       [1182.  ],\n",
       "       [  29.52],\n",
       "       [   1.49],\n",
       "       [  23.7 ],\n",
       "       [   7.56],\n",
       "       [1338.  ],\n",
       "       [  29.6 ],\n",
       "       [   1.47],\n",
       "       [  23.11],\n",
       "       [   7.56],\n",
       "       [1347.  ],\n",
       "       [  29.59],\n",
       "       [   1.39]])"
      ]
     },
     "execution_count": 48,
     "metadata": {},
     "output_type": "execute_result"
    }
   ],
   "source": [
    "xt[1]"
   ]
  },
  {
   "cell_type": "code",
   "execution_count": 47,
   "id": "ad496c8c-d5a4-4ac1-be30-a2b0b7d6ecfc",
   "metadata": {},
   "outputs": [
    {
     "data": {
      "text/plain": [
       "array([[  24.545],\n",
       "       [   7.585],\n",
       "       [1491.   ],\n",
       "       [  30.94 ],\n",
       "       [   1.76 ],\n",
       "       [  25.05 ],\n",
       "       [   7.76 ],\n",
       "       [1573.   ],\n",
       "       [  30.915],\n",
       "       [   1.75 ],\n",
       "       [  24.955],\n",
       "       [   7.44 ],\n",
       "       [1580.   ],\n",
       "       [  30.995],\n",
       "       [   1.72 ]])"
      ]
     },
     "execution_count": 47,
     "metadata": {},
     "output_type": "execute_result"
    }
   ],
   "source": [
    "moving_avg_data[1]"
   ]
  },
  {
   "cell_type": "code",
   "execution_count": 45,
   "id": "a1928f86-4152-4547-9390-aa04444bf6fc",
   "metadata": {},
   "outputs": [
    {
     "data": {
      "text/plain": [
       "2.17"
      ]
     },
     "execution_count": 45,
     "metadata": {},
     "output_type": "execute_result"
    }
   ],
   "source": [
    "target[0]"
   ]
  },
  {
   "cell_type": "code",
   "execution_count": 54,
   "id": "d780849a-dd21-4913-a46a-1ff78e39c84d",
   "metadata": {},
   "outputs": [
    {
     "data": {
      "text/plain": [
       "[<matplotlib.lines.Line2D at 0x7f0dc2463ac0>]"
      ]
     },
     "execution_count": 54,
     "metadata": {},
     "output_type": "execute_result"
    },
    {
     "data": {
      "image/png": "[encoded data removed]",
      "text/plain": [
       "<Figure size 432x288 with 1 Axes>"
      ]
     },
     "metadata": {
      "needs_background": "light"
     },
     "output_type": "display_data"
    }
   ],
   "source": [
    "plt.plot(xt.flatten())\n",
    "plt.plot(moving_avg_data.flatten())"
   ]
  },
  {
   "cell_type": "code",
   "execution_count": 72,
   "id": "3c92c8a6-654c-4508-a136-f5cd5eda949a",
   "metadata": {},
   "outputs": [],
   "source": [
    "features = data.drop(target_column, axis=1)\n",
    "target = data[target_column]"
   ]
  },
  {
   "cell_type": "code",
   "execution_count": 76,
   "id": "a0865d27-83a6-4ad1-a85d-92510f0739dc",
   "metadata": {},
   "outputs": [
    {
     "data": {
      "text/plain": [
       "(   TempA   pHA   ECA   BODA   TNA\n",
       " 0  21.50  7.73  1748  27.96  1.28\n",
       " 1  21.21  7.82  1765  27.90  1.08\n",
       " 2  21.21  7.73  1769  27.88  1.17\n",
       " 3  21.26  7.82  1776  27.66  1.15\n",
       " 4  21.09  7.76  1822  27.71  1.22,\n",
       " 0    2.55\n",
       " 1    2.60\n",
       " 2    2.59\n",
       " 3    2.63\n",
       " 4    2.60\n",
       " Name: DOA, dtype: float64)"
      ]
     },
     "execution_count": 76,
     "metadata": {},
     "output_type": "execute_result"
    }
   ],
   "source": [
    "features.head(), target.head()"
   ]
  },
  {
   "cell_type": "code",
   "execution_count": 77,
   "id": "8c71a4e9-1857-49ae-9d1c-c4521d9c83a8",
   "metadata": {},
   "outputs": [],
   "source": [
    "X = []\n",
    "y = []\n",
    "for i in range(3, len(features)):\n",
    "    X.append(features.iloc[i-3:i, :].values.ravel())  # Flatten features\n",
    "    y.append(target.iloc[i])\n",
    "\n",
    "X = np.array(X)\n",
    "y = np.array(y)"
   ]
  },
  {
   "cell_type": "code",
   "execution_count": 83,
   "id": "a3ed83c3-0e2e-4a0d-875a-ae5a8c490a99",
   "metadata": {},
   "outputs": [
    {
     "data": {
      "text/plain": [
       "(array([2.150e+01, 7.730e+00, 1.748e+03, 2.796e+01, 1.280e+00, 2.121e+01,\n",
       "        7.820e+00, 1.765e+03, 2.790e+01, 1.080e+00, 2.121e+01, 7.730e+00,\n",
       "        1.769e+03, 2.788e+01, 1.170e+00]),\n",
       " array([2.121e+01, 7.820e+00, 1.765e+03, 2.790e+01, 1.080e+00, 2.121e+01,\n",
       "        7.730e+00, 1.769e+03, 2.788e+01, 1.170e+00, 2.126e+01, 7.820e+00,\n",
       "        1.776e+03, 2.766e+01, 1.150e+00]))"
      ]
     },
     "execution_count": 83,
     "metadata": {},
     "output_type": "execute_result"
    }
   ],
   "source": [
    "X[0], X[1]"
   ]
  },
  {
   "cell_type": "code",
   "execution_count": 80,
   "id": "bdcb528c-15fc-4ecb-a543-132adc1a4487",
   "metadata": {},
   "outputs": [
    {
     "data": {
      "text/html": [
       "<div>\n",
       "<style scoped>\n",
       "    .dataframe tbody tr th:only-of-type {\n",
       "        vertical-align: middle;\n",
       "    }\n",
       "\n",
       "    .dataframe tbody tr th {\n",
       "        vertical-align: top;\n",
       "    }\n",
       "\n",
       "    .dataframe thead th {\n",
       "        text-align: right;\n",
       "    }\n",
       "</style>\n",
       "<table border=\"1\" class=\"dataframe\">\n",
       "  <thead>\n",
       "    <tr style=\"text-align: right;\">\n",
       "      <th></th>\n",
       "      <th>TempA</th>\n",
       "      <th>pHA</th>\n",
       "      <th>ECA</th>\n",
       "      <th>BODA</th>\n",
       "      <th>TNA</th>\n",
       "    </tr>\n",
       "  </thead>\n",
       "  <tbody>\n",
       "    <tr>\n",
       "      <th>0</th>\n",
       "      <td>21.50</td>\n",
       "      <td>7.73</td>\n",
       "      <td>1748</td>\n",
       "      <td>27.96</td>\n",
       "      <td>1.28</td>\n",
       "    </tr>\n",
       "    <tr>\n",
       "      <th>1</th>\n",
       "      <td>21.21</td>\n",
       "      <td>7.82</td>\n",
       "      <td>1765</td>\n",
       "      <td>27.90</td>\n",
       "      <td>1.08</td>\n",
       "    </tr>\n",
       "    <tr>\n",
       "      <th>2</th>\n",
       "      <td>21.21</td>\n",
       "      <td>7.73</td>\n",
       "      <td>1769</td>\n",
       "      <td>27.88</td>\n",
       "      <td>1.17</td>\n",
       "    </tr>\n",
       "    <tr>\n",
       "      <th>3</th>\n",
       "      <td>21.26</td>\n",
       "      <td>7.82</td>\n",
       "      <td>1776</td>\n",
       "      <td>27.66</td>\n",
       "      <td>1.15</td>\n",
       "    </tr>\n",
       "    <tr>\n",
       "      <th>4</th>\n",
       "      <td>21.09</td>\n",
       "      <td>7.76</td>\n",
       "      <td>1822</td>\n",
       "      <td>27.71</td>\n",
       "      <td>1.22</td>\n",
       "    </tr>\n",
       "  </tbody>\n",
       "</table>\n",
       "</div>"
      ],
      "text/plain": [
       "   TempA   pHA   ECA   BODA   TNA\n",
       "0  21.50  7.73  1748  27.96  1.28\n",
       "1  21.21  7.82  1765  27.90  1.08\n",
       "2  21.21  7.73  1769  27.88  1.17\n",
       "3  21.26  7.82  1776  27.66  1.15\n",
       "4  21.09  7.76  1822  27.71  1.22"
      ]
     },
     "execution_count": 80,
     "metadata": {},
     "output_type": "execute_result"
    }
   ],
   "source": [
    "features.head()"
   ]
  },
  {
   "cell_type": "code",
   "execution_count": 82,
   "id": "685543f7-238e-4703-bac8-d1443cbe4425",
   "metadata": {},
   "outputs": [
    {
     "data": {
      "text/plain": [
       "((362, 15), (362,))"
      ]
     },
     "execution_count": 82,
     "metadata": {},
     "output_type": "execute_result"
    }
   ],
   "source": [
    "X.shape, y.shape"
   ]
  },
  {
   "cell_type": "code",
   "execution_count": 84,
   "id": "b947a673-0685-4a64-afb1-865721352c4f",
   "metadata": {},
   "outputs": [],
   "source": [
    "x_train, x_test, y_train, y_test = train_test_split(X, y, test_size=0.2, random_state=1)\n",
    "x_train, x_val, y_train, y_val = train_test_split(x_train, y_train, test_size=0.2, random_state=1)"
   ]
  },
  {
   "cell_type": "code",
   "execution_count": 88,
   "id": "9840e388-86d5-4edc-91b3-a64b86c499c5",
   "metadata": {},
   "outputs": [
    {
     "data": {
      "text/plain": [
       "(231, 15)"
      ]
     },
     "execution_count": 88,
     "metadata": {},
     "output_type": "execute_result"
    }
   ],
   "source": [
    "x_train.shape"
   ]
  },
  {
   "cell_type": "code",
   "execution_count": 89,
   "id": "fc802015-e453-485b-ac5e-b0e2625b5111",
   "metadata": {},
   "outputs": [
    {
     "data": {
      "text/plain": [
       "(231, 15, 1)"
      ]
     },
     "execution_count": 89,
     "metadata": {},
     "output_type": "execute_result"
    }
   ],
   "source": [
    "xt = x_train.copy()\n",
    "xt = xt.reshape(231,15,1)\n",
    "xt.shape"
   ]
  },
  {
   "cell_type": "code",
   "execution_count": 90,
   "id": "eafa31c5-1afe-4ee4-aef7-42e6f97c6a3a",
   "metadata": {},
   "outputs": [
    {
     "name": "stdout",
     "output_type": "stream",
     "text": [
      "Epoch 1/10\n",
      "7/8 [=========================>....] - ETA: 0s - loss: 3.6748 - root_mean_squared_error: 1.9170 "
     ]
    },
    {
     "name": "stderr",
     "output_type": "stream",
     "text": [
      "WARNING:absl:Found untraced functions such as gru_cell_3_layer_call_fn, gru_cell_3_layer_call_and_return_conditional_losses while saving (showing 2 of 2). These functions will not be directly callable after loading.\n"
     ]
    },
    {
     "name": "stdout",
     "output_type": "stream",
     "text": [
      "INFO:tensorflow:Assets written to: combine_gru/assets\n"
     ]
    },
    {
     "name": "stderr",
     "output_type": "stream",
     "text": [
      "INFO:tensorflow:Assets written to: combine_gru/assets\n"
     ]
    },
    {
     "name": "stdout",
     "output_type": "stream",
     "text": [
      "8/8 [==============================] - 5s 437ms/step - loss: 3.6447 - root_mean_squared_error: 1.9091 - val_loss: 2.8367 - val_root_mean_squared_error: 1.6843\n",
      "Epoch 2/10\n",
      "6/8 [=====================>........] - ETA: 0s - loss: 2.9716 - root_mean_squared_error: 1.7238"
     ]
    },
    {
     "name": "stderr",
     "output_type": "stream",
     "text": [
      "WARNING:absl:Found untraced functions such as gru_cell_3_layer_call_fn, gru_cell_3_layer_call_and_return_conditional_losses while saving (showing 2 of 2). These functions will not be directly callable after loading.\n"
     ]
    },
    {
     "name": "stdout",
     "output_type": "stream",
     "text": [
      "INFO:tensorflow:Assets written to: combine_gru/assets\n"
     ]
    },
    {
     "name": "stderr",
     "output_type": "stream",
     "text": [
      "INFO:tensorflow:Assets written to: combine_gru/assets\n"
     ]
    },
    {
     "name": "stdout",
     "output_type": "stream",
     "text": [
      "8/8 [==============================] - 3s 446ms/step - loss: 2.9930 - root_mean_squared_error: 1.7300 - val_loss: 2.3079 - val_root_mean_squared_error: 1.5192\n",
      "Epoch 3/10\n",
      "7/8 [=========================>....] - ETA: 0s - loss: 2.4569 - root_mean_squared_error: 1.5675"
     ]
    },
    {
     "name": "stderr",
     "output_type": "stream",
     "text": [
      "WARNING:absl:Found untraced functions such as gru_cell_3_layer_call_fn, gru_cell_3_layer_call_and_return_conditional_losses while saving (showing 2 of 2). These functions will not be directly callable after loading.\n"
     ]
    },
    {
     "name": "stdout",
     "output_type": "stream",
     "text": [
      "INFO:tensorflow:Assets written to: combine_gru/assets\n"
     ]
    },
    {
     "name": "stderr",
     "output_type": "stream",
     "text": [
      "INFO:tensorflow:Assets written to: combine_gru/assets\n"
     ]
    },
    {
     "name": "stdout",
     "output_type": "stream",
     "text": [
      "8/8 [==============================] - 2s 337ms/step - loss: 2.4479 - root_mean_squared_error: 1.5646 - val_loss: 1.8794 - val_root_mean_squared_error: 1.3709\n",
      "Epoch 4/10\n",
      "7/8 [=========================>....] - ETA: 0s - loss: 2.0053 - root_mean_squared_error: 1.4161"
     ]
    },
    {
     "name": "stderr",
     "output_type": "stream",
     "text": [
      "WARNING:absl:Found untraced functions such as gru_cell_3_layer_call_fn, gru_cell_3_layer_call_and_return_conditional_losses while saving (showing 2 of 2). These functions will not be directly callable after loading.\n"
     ]
    },
    {
     "name": "stdout",
     "output_type": "stream",
     "text": [
      "INFO:tensorflow:Assets written to: combine_gru/assets\n"
     ]
    },
    {
     "name": "stderr",
     "output_type": "stream",
     "text": [
      "INFO:tensorflow:Assets written to: combine_gru/assets\n"
     ]
    },
    {
     "name": "stdout",
     "output_type": "stream",
     "text": [
      "8/8 [==============================] - 2s 333ms/step - loss: 2.0077 - root_mean_squared_error: 1.4169 - val_loss: 1.5472 - val_root_mean_squared_error: 1.2438\n",
      "Epoch 5/10\n",
      "7/8 [=========================>....] - ETA: 0s - loss: 1.6605 - root_mean_squared_error: 1.2886"
     ]
    },
    {
     "name": "stderr",
     "output_type": "stream",
     "text": [
      "WARNING:absl:Found untraced functions such as gru_cell_3_layer_call_fn, gru_cell_3_layer_call_and_return_conditional_losses while saving (showing 2 of 2). These functions will not be directly callable after loading.\n"
     ]
    },
    {
     "name": "stdout",
     "output_type": "stream",
     "text": [
      "INFO:tensorflow:Assets written to: combine_gru/assets\n"
     ]
    },
    {
     "name": "stderr",
     "output_type": "stream",
     "text": [
      "INFO:tensorflow:Assets written to: combine_gru/assets\n"
     ]
    },
    {
     "name": "stdout",
     "output_type": "stream",
     "text": [
      "8/8 [==============================] - 2s 341ms/step - loss: 1.6641 - root_mean_squared_error: 1.2900 - val_loss: 1.2915 - val_root_mean_squared_error: 1.1364\n",
      "Epoch 6/10\n",
      "7/8 [=========================>....] - ETA: 0s - loss: 1.3909 - root_mean_squared_error: 1.1794"
     ]
    },
    {
     "name": "stderr",
     "output_type": "stream",
     "text": [
      "WARNING:absl:Found untraced functions such as gru_cell_3_layer_call_fn, gru_cell_3_layer_call_and_return_conditional_losses while saving (showing 2 of 2). These functions will not be directly callable after loading.\n"
     ]
    },
    {
     "name": "stdout",
     "output_type": "stream",
     "text": [
      "INFO:tensorflow:Assets written to: combine_gru/assets\n"
     ]
    },
    {
     "name": "stderr",
     "output_type": "stream",
     "text": [
      "INFO:tensorflow:Assets written to: combine_gru/assets\n"
     ]
    },
    {
     "name": "stdout",
     "output_type": "stream",
     "text": [
      "8/8 [==============================] - 2s 351ms/step - loss: 1.3910 - root_mean_squared_error: 1.1794 - val_loss: 1.1083 - val_root_mean_squared_error: 1.0527\n",
      "Epoch 7/10\n",
      "7/8 [=========================>....] - ETA: 0s - loss: 1.1876 - root_mean_squared_error: 1.0898"
     ]
    },
    {
     "name": "stderr",
     "output_type": "stream",
     "text": [
      "WARNING:absl:Found untraced functions such as gru_cell_3_layer_call_fn, gru_cell_3_layer_call_and_return_conditional_losses while saving (showing 2 of 2). These functions will not be directly callable after loading.\n"
     ]
    },
    {
     "name": "stdout",
     "output_type": "stream",
     "text": [
      "INFO:tensorflow:Assets written to: combine_gru/assets\n"
     ]
    },
    {
     "name": "stderr",
     "output_type": "stream",
     "text": [
      "INFO:tensorflow:Assets written to: combine_gru/assets\n"
     ]
    },
    {
     "name": "stdout",
     "output_type": "stream",
     "text": [
      "8/8 [==============================] - 2s 344ms/step - loss: 1.1888 - root_mean_squared_error: 1.0903 - val_loss: 0.9877 - val_root_mean_squared_error: 0.9938\n",
      "Epoch 8/10\n",
      "7/8 [=========================>....] - ETA: 0s - loss: 1.0479 - root_mean_squared_error: 1.0236"
     ]
    },
    {
     "name": "stderr",
     "output_type": "stream",
     "text": [
      "WARNING:absl:Found untraced functions such as gru_cell_3_layer_call_fn, gru_cell_3_layer_call_and_return_conditional_losses while saving (showing 2 of 2). These functions will not be directly callable after loading.\n"
     ]
    },
    {
     "name": "stdout",
     "output_type": "stream",
     "text": [
      "INFO:tensorflow:Assets written to: combine_gru/assets\n"
     ]
    },
    {
     "name": "stderr",
     "output_type": "stream",
     "text": [
      "INFO:tensorflow:Assets written to: combine_gru/assets\n"
     ]
    },
    {
     "name": "stdout",
     "output_type": "stream",
     "text": [
      "8/8 [==============================] - 3s 478ms/step - loss: 1.0554 - root_mean_squared_error: 1.0273 - val_loss: 0.9079 - val_root_mean_squared_error: 0.9529\n",
      "Epoch 9/10\n",
      "7/8 [=========================>....] - ETA: 0s - loss: 0.9600 - root_mean_squared_error: 0.9798"
     ]
    },
    {
     "name": "stderr",
     "output_type": "stream",
     "text": [
      "WARNING:absl:Found untraced functions such as gru_cell_3_layer_call_fn, gru_cell_3_layer_call_and_return_conditional_losses while saving (showing 2 of 2). These functions will not be directly callable after loading.\n"
     ]
    },
    {
     "name": "stdout",
     "output_type": "stream",
     "text": [
      "INFO:tensorflow:Assets written to: combine_gru/assets\n"
     ]
    },
    {
     "name": "stderr",
     "output_type": "stream",
     "text": [
      "INFO:tensorflow:Assets written to: combine_gru/assets\n"
     ]
    },
    {
     "name": "stdout",
     "output_type": "stream",
     "text": [
      "8/8 [==============================] - 2s 343ms/step - loss: 0.9562 - root_mean_squared_error: 0.9779 - val_loss: 0.8655 - val_root_mean_squared_error: 0.9303\n",
      "Epoch 10/10\n",
      "6/8 [=====================>........] - ETA: 0s - loss: 0.9124 - root_mean_squared_error: 0.9552"
     ]
    },
    {
     "name": "stderr",
     "output_type": "stream",
     "text": [
      "WARNING:absl:Found untraced functions such as gru_cell_3_layer_call_fn, gru_cell_3_layer_call_and_return_conditional_losses while saving (showing 2 of 2). These functions will not be directly callable after loading.\n"
     ]
    },
    {
     "name": "stdout",
     "output_type": "stream",
     "text": [
      "INFO:tensorflow:Assets written to: combine_gru/assets\n"
     ]
    },
    {
     "name": "stderr",
     "output_type": "stream",
     "text": [
      "INFO:tensorflow:Assets written to: combine_gru/assets\n"
     ]
    },
    {
     "name": "stdout",
     "output_type": "stream",
     "text": [
      "8/8 [==============================] - 2s 353ms/step - loss: 0.8994 - root_mean_squared_error: 0.9484 - val_loss: 0.8417 - val_root_mean_squared_error: 0.9175\n",
      "8/8 [==============================] - 0s 3ms/step\n"
     ]
    },
    {
     "data": {
      "image/png": "[encoded data removed]",
      "text/plain": [
       "<Figure size 432x288 with 1 Axes>"
      ]
     },
     "metadata": {
      "needs_background": "light"
     },
     "output_type": "display_data"
    },
    {
     "name": "stdout",
     "output_type": "stream",
     "text": [
      "2/2 [==============================] - 0s 4ms/step\n"
     ]
    },
    {
     "data": {
      "image/png": "[encoded data removed]",
      "text/plain": [
       "<Figure size 432x288 with 1 Axes>"
      ]
     },
     "metadata": {
      "needs_background": "light"
     },
     "output_type": "display_data"
    },
    {
     "name": "stdout",
     "output_type": "stream",
     "text": [
      "3/3 [==============================] - 0s 4ms/step\n"
     ]
    },
    {
     "data": {
      "image/png": "[encoded data removed]",
      "text/plain": [
       "<Figure size 432x288 with 1 Axes>"
      ]
     },
     "metadata": {
      "needs_background": "light"
     },
     "output_type": "display_data"
    },
    {
     "name": "stdout",
     "output_type": "stream",
     "text": [
      "3/3 [==============================] - 0s 4ms/step\n"
     ]
    },
    {
     "data": {
      "image/png": "[encoded data removed]",
      "text/plain": [
       "<Figure size 432x288 with 1 Axes>"
      ]
     },
     "metadata": {
      "needs_background": "light"
     },
     "output_type": "display_data"
    }
   ],
   "source": [
    "model = keras.Sequential([\n",
    "    layers.GRU(units=64, input_shape=(15, 1)),\n",
    "    layers.Dense(units=1)\n",
    "])\n",
    "\n",
    "model.compile(loss='mean_squared_error', optimizer='adam')\n",
    "\n",
    "cp = ModelCheckpoint('combine_gru/', save_best_only=True)\n",
    "model = fit_model(model, cp, 10, xt, y_train,x_val, y_val)\n",
    "\n",
    "plot_train(\"combine_gru\", 50, xt, y_train)\n",
    "plot_val(model, 50, x_val, y_val)\n",
    "plot_test(model, 50, x_test, y_test)\n",
    "gru_mse = plot_predictions1(model,x_test, y_test)"
   ]
  },
  {
   "cell_type": "code",
   "execution_count": 91,
   "id": "45c84728-d482-4d45-b7a9-8f9bb5a864c8",
   "metadata": {},
   "outputs": [
    {
     "data": {
      "text/plain": [
       "0.8777801141411348"
      ]
     },
     "execution_count": 91,
     "metadata": {},
     "output_type": "execute_result"
    }
   ],
   "source": [
    "gru_mse"
   ]
  },
  {
   "cell_type": "code",
   "execution_count": null,
   "id": "ea6ef45f-246c-4993-bceb-60bae71ec5d9",
   "metadata": {},
   "outputs": [],
   "source": []
  },
  {
   "cell_type": "code",
   "execution_count": null,
   "id": "b6c9ac60-ed32-4427-87d4-3ad714bf88aa",
   "metadata": {},
   "outputs": [],
   "source": []
  },
  {
   "cell_type": "code",
   "execution_count": null,
   "id": "2c95bfcb-b74e-4d33-8119-afd002315b16",
   "metadata": {},
   "outputs": [],
   "source": []
  },
  {
   "cell_type": "code",
   "execution_count": null,
   "id": "ec8a7109-9214-4108-aa9c-de767a1b91cc",
   "metadata": {},
   "outputs": [],
   "source": []
  },
  {
   "cell_type": "code",
   "execution_count": null,
   "id": "c7f32ed5-e687-4e95-8086-9587457723ef",
   "metadata": {},
   "outputs": [],
   "source": []
  },
  {
   "cell_type": "code",
   "execution_count": null,
   "id": "268682c2-5817-4a4d-bbeb-bcad48168c89",
   "metadata": {},
   "outputs": [],
   "source": []
  },
  {
   "cell_type": "code",
   "execution_count": null,
   "id": "97a6cebd-dd86-4254-bd8a-5c5f44dd801f",
   "metadata": {},
   "outputs": [],
   "source": []
  },
  {
   "cell_type": "code",
   "execution_count": null,
   "id": "e57157ff-e61e-4ef2-86b9-d64316e8f51c",
   "metadata": {},
   "outputs": [],
   "source": []
  },
  {
   "cell_type": "code",
   "execution_count": null,
   "id": "89ebf5e7-fe1e-4892-8c30-910e1de48264",
   "metadata": {},
   "outputs": [],
   "source": []
  },
  {
   "cell_type": "code",
   "execution_count": null,
   "id": "a814ee21-1e05-4cda-8c70-0cd5c6c77521",
   "metadata": {},
   "outputs": [],
   "source": []
  },
  {
   "cell_type": "code",
   "execution_count": null,
   "id": "246aaf39-3c0d-458a-bb4e-975e029b66bd",
   "metadata": {},
   "outputs": [],
   "source": []
  }
 ],
 "metadata": {
  "kernelspec": {
   "display_name": "Python 3 (ipykernel)",
   "language": "python",
   "name": "python3"
  },
  "language_info": {
   "codemirror_mode": {
    "name": "ipython",
    "version": 3
   },
   "file_extension": ".py",
   "mimetype": "text/x-python",
   "name": "python",
   "nbconvert_exporter": "python",
   "pygments_lexer": "ipython3",
   "version": "3.9.12"
  }
 },
 "nbformat": 4,
 "nbformat_minor": 5
}
