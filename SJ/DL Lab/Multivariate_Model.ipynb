{
 "cells": [
  {
   "cell_type": "code",
   "execution_count": 2,
   "id": "5cf9aa55-4c4a-4423-aa65-ed7a4605ba89",
   "metadata": {},
   "outputs": [],
   "source": [
    "import pandas as pd\n",
    "import numpy as np\n",
    "import matplotlib.pyplot as plt\n",
    "import tensorflow as tf\n",
    "from tensorflow.keras.models import Sequential\n",
    "from tensorflow.keras.layers import Conv1D, MaxPooling1D, Flatten,Dropout, Dense\n",
    "from tensorflow.keras.layers import Conv1D\n",
    "from tensorflow.keras.models import Sequential\n",
    "from tensorflow.keras.layers import *\n",
    "from tensorflow.keras.callbacks import ModelCheckpoint\n",
    "from tensorflow.keras.losses import MeanSquaredError\n",
    "from tensorflow.keras.metrics import RootMeanSquaredError\n",
    "from tensorflow.keras.optimizers import Adam\n",
    "from sklearn.model_selection import train_test_split\n",
    "from tensorflow.keras.models import load_model\n",
    "from sklearn.metrics import mean_squared_error as mse\n",
    "from functions_learning import *\n",
    "from feed_data import data_extract\n",
    "from tensorflow import keras\n",
    "from keras import layers"
   ]
  },
  {
   "cell_type": "markdown",
   "id": "e4fb8b94-f6ed-416f-abf9-058740c714c5",
   "metadata": {
    "tags": []
   },
   "source": [
    "## Data Format"
   ]
  },
  {
   "cell_type": "code",
   "execution_count": 30,
   "id": "7772f8de-4c5e-4b7a-8524-aea3e3fb0855",
   "metadata": {},
   "outputs": [
    {
     "data": {
      "text/html": [
       "<div>\n",
       "<style scoped>\n",
       "    .dataframe tbody tr th:only-of-type {\n",
       "        vertical-align: middle;\n",
       "    }\n",
       "\n",
       "    .dataframe tbody tr th {\n",
       "        vertical-align: top;\n",
       "    }\n",
       "\n",
       "    .dataframe thead th {\n",
       "        text-align: right;\n",
       "    }\n",
       "</style>\n",
       "<table border=\"1\" class=\"dataframe\">\n",
       "  <thead>\n",
       "    <tr style=\"text-align: right;\">\n",
       "      <th></th>\n",
       "      <th>TempA</th>\n",
       "      <th>pHA</th>\n",
       "      <th>ECA</th>\n",
       "      <th>DOA</th>\n",
       "      <th>BODA</th>\n",
       "      <th>TNA</th>\n",
       "    </tr>\n",
       "  </thead>\n",
       "  <tbody>\n",
       "    <tr>\n",
       "      <th>0</th>\n",
       "      <td>21.50</td>\n",
       "      <td>7.73</td>\n",
       "      <td>1748</td>\n",
       "      <td>2.55</td>\n",
       "      <td>27.96</td>\n",
       "      <td>1.28</td>\n",
       "    </tr>\n",
       "    <tr>\n",
       "      <th>1</th>\n",
       "      <td>21.21</td>\n",
       "      <td>7.82</td>\n",
       "      <td>1765</td>\n",
       "      <td>2.60</td>\n",
       "      <td>27.90</td>\n",
       "      <td>1.08</td>\n",
       "    </tr>\n",
       "    <tr>\n",
       "      <th>2</th>\n",
       "      <td>21.21</td>\n",
       "      <td>7.73</td>\n",
       "      <td>1769</td>\n",
       "      <td>2.59</td>\n",
       "      <td>27.88</td>\n",
       "      <td>1.17</td>\n",
       "    </tr>\n",
       "    <tr>\n",
       "      <th>3</th>\n",
       "      <td>21.26</td>\n",
       "      <td>7.82</td>\n",
       "      <td>1776</td>\n",
       "      <td>2.63</td>\n",
       "      <td>27.66</td>\n",
       "      <td>1.15</td>\n",
       "    </tr>\n",
       "    <tr>\n",
       "      <th>4</th>\n",
       "      <td>21.09</td>\n",
       "      <td>7.76</td>\n",
       "      <td>1822</td>\n",
       "      <td>2.60</td>\n",
       "      <td>27.71</td>\n",
       "      <td>1.22</td>\n",
       "    </tr>\n",
       "  </tbody>\n",
       "</table>\n",
       "</div>"
      ],
      "text/plain": [
       "   TempA   pHA   ECA   DOA   BODA   TNA\n",
       "0  21.50  7.73  1748  2.55  27.96  1.28\n",
       "1  21.21  7.82  1765  2.60  27.90  1.08\n",
       "2  21.21  7.73  1769  2.59  27.88  1.17\n",
       "3  21.26  7.82  1776  2.63  27.66  1.15\n",
       "4  21.09  7.76  1822  2.60  27.71  1.22"
      ]
     },
     "execution_count": 30,
     "metadata": {},
     "output_type": "execute_result"
    }
   ],
   "source": [
    "data = pd.read_csv(\"../data/LocationA.csv\")\n",
    "data = data.drop(columns=[\"Unnamed: 0\", \"Date\"])\n",
    "data.head()"
   ]
  },
  {
   "cell_type": "code",
   "execution_count": 31,
   "id": "7076b9d0-9016-4b95-a210-f51b157c2a5d",
   "metadata": {},
   "outputs": [],
   "source": [
    "features = data.drop(target_column, axis=1)\n",
    "target = data[target_column]"
   ]
  },
  {
   "cell_type": "code",
   "execution_count": 32,
   "id": "7ab7c71c-bb4e-42d7-9471-9a1a936de1ac",
   "metadata": {},
   "outputs": [],
   "source": [
    "X = []\n",
    "y = []\n",
    "for i in range(3, len(features)):\n",
    "    X.append(features.iloc[i-3:i, :].values.ravel())  # Flatten features\n",
    "    y.append(target.iloc[i])\n",
    "\n",
    "X = np.array(X)\n",
    "y = np.array(y)"
   ]
  },
  {
   "cell_type": "code",
   "execution_count": 33,
   "id": "aa57a8f8-5b50-4672-8826-ce86495614c2",
   "metadata": {},
   "outputs": [
    {
     "data": {
      "text/plain": [
       "(array([2.150e+01, 7.730e+00, 1.748e+03, 2.796e+01, 1.280e+00, 2.121e+01,\n",
       "        7.820e+00, 1.765e+03, 2.790e+01, 1.080e+00, 2.121e+01, 7.730e+00,\n",
       "        1.769e+03, 2.788e+01, 1.170e+00]),\n",
       " 2.63)"
      ]
     },
     "execution_count": 33,
     "metadata": {},
     "output_type": "execute_result"
    }
   ],
   "source": [
    "X[0], y[0]"
   ]
  },
  {
   "cell_type": "code",
   "execution_count": 34,
   "id": "8203c18b-c380-4cf3-831e-a43017ca3c59",
   "metadata": {},
   "outputs": [],
   "source": [
    "x_train, x_test, y_train, y_test = train_test_split(X, y, test_size=0.2, random_state=1)\n",
    "x_train, x_val, y_train, y_val = train_test_split(x_train, y_train, test_size=0.2, random_state=1)"
   ]
  },
  {
   "cell_type": "code",
   "execution_count": 35,
   "id": "75ef0bf9-fc97-48be-82c5-e3e136538b51",
   "metadata": {},
   "outputs": [
    {
     "data": {
      "text/plain": [
       "(231, 15, 1)"
      ]
     },
     "execution_count": 35,
     "metadata": {},
     "output_type": "execute_result"
    }
   ],
   "source": [
    "xt = x_train.copy()\n",
    "xt = xt.reshape(231,15,1)\n",
    "xt.shape"
   ]
  },
  {
   "cell_type": "code",
   "execution_count": 36,
   "id": "5bd484da-9b43-44e5-b03d-6631c303aabb",
   "metadata": {},
   "outputs": [],
   "source": [
    "window_size = 3\n",
    "\n",
    "def moving_average(data, window_size):\n",
    "    cumsum = np.cumsum(data, axis=0)\n",
    "    cumsum[window_size:] = cumsum[window_size:] - cumsum[:-window_size]\n",
    "    return cumsum[window_size - 1:] / window_size\n",
    "\n",
    "moving_avg_data = np.apply_along_axis(lambda x: moving_average(x, window_size), axis=0, arr=xt)\n",
    "target = y_train[window_size - 1:].flatten()"
   ]
  },
  {
   "cell_type": "code",
   "execution_count": 37,
   "id": "2fedeb44-6531-4737-be6f-f28b633f8d28",
   "metadata": {},
   "outputs": [
    {
     "data": {
      "text/plain": [
       "((229, 15, 1), (229,))"
      ]
     },
     "execution_count": 37,
     "metadata": {},
     "output_type": "execute_result"
    }
   ],
   "source": [
    "moving_avg_data.shape, target.shape"
   ]
  },
  {
   "cell_type": "markdown",
   "id": "938fcf83-9f24-4ec1-9d33-cdc6e3434b97",
   "metadata": {},
   "source": [
    "# CNN"
   ]
  },
  {
   "cell_type": "code",
   "execution_count": null,
   "id": "40c423ad-73f1-43fd-bdf2-a051f53f3059",
   "metadata": {},
   "outputs": [],
   "source": []
  },
  {
   "cell_type": "code",
   "execution_count": null,
   "id": "a3c2a760-992f-444f-9a33-9d1002474c4e",
   "metadata": {},
   "outputs": [],
   "source": []
  },
  {
   "cell_type": "code",
   "execution_count": null,
   "id": "bf63dd67-5834-492c-bbfb-596078eb3100",
   "metadata": {},
   "outputs": [],
   "source": []
  },
  {
   "cell_type": "code",
   "execution_count": null,
   "id": "629d3d8f-280b-4b79-8fe8-92f8b754f37e",
   "metadata": {},
   "outputs": [],
   "source": []
  },
  {
   "cell_type": "code",
   "execution_count": null,
   "id": "e3da0532-32b7-4377-b42d-674a9d8132fa",
   "metadata": {},
   "outputs": [],
   "source": []
  }
 ],
 "metadata": {
  "kernelspec": {
   "display_name": "Python 3 (ipykernel)",
   "language": "python",
   "name": "python3"
  },
  "language_info": {
   "codemirror_mode": {
    "name": "ipython",
    "version": 3
   },
   "file_extension": ".py",
   "mimetype": "text/x-python",
   "name": "python",
   "nbconvert_exporter": "python",
   "pygments_lexer": "ipython3",
   "version": "3.9.12"
  }
 },
 "nbformat": 4,
 "nbformat_minor": 5
}
